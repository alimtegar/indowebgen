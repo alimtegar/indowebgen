{
 "cells": [
  {
   "cell_type": "code",
   "execution_count": 39,
   "metadata": {},
   "outputs": [],
   "source": [
    "import os\n",
    "import pandas as pd"
   ]
  },
  {
   "cell_type": "code",
   "execution_count": 14,
   "metadata": {},
   "outputs": [
    {
     "data": {
      "text/html": [
       "<div>\n",
       "<style scoped>\n",
       "    .dataframe tbody tr th:only-of-type {\n",
       "        vertical-align: middle;\n",
       "    }\n",
       "\n",
       "    .dataframe tbody tr th {\n",
       "        vertical-align: top;\n",
       "    }\n",
       "\n",
       "    .dataframe thead th {\n",
       "        text-align: right;\n",
       "    }\n",
       "</style>\n",
       "<table border=\"1\" class=\"dataframe\">\n",
       "  <thead>\n",
       "    <tr style=\"text-align: right;\">\n",
       "      <th></th>\n",
       "      <th>instruction</th>\n",
       "      <th>output</th>\n",
       "    </tr>\n",
       "  </thead>\n",
       "  <tbody>\n",
       "    <tr>\n",
       "      <th>0</th>\n",
       "      <td>Create a website for a personal blog, featurin...</td>\n",
       "      <td>&lt;!DOCTYPE html&gt;\\n&lt;html lang=\"en\"&gt;\\n&lt;head&gt;\\n  &lt;...</td>\n",
       "    </tr>\n",
       "    <tr>\n",
       "      <th>1</th>\n",
       "      <td>Create a comprehensive website that features a...</td>\n",
       "      <td>&lt;!DOCTYPE html&gt;\\n&lt;html lang=\"en\"&gt;\\n\\n&lt;head&gt;\\n ...</td>\n",
       "    </tr>\n",
       "    <tr>\n",
       "      <th>2</th>\n",
       "      <td>Create a comprehensive news website characteri...</td>\n",
       "      <td>&lt;!DOCTYPE html&gt;\\n&lt;html lang=\"en\"&gt;\\n&lt;head&gt;\\n  &lt;...</td>\n",
       "    </tr>\n",
       "    <tr>\n",
       "      <th>3</th>\n",
       "      <td>Create a dynamic online shop website that offe...</td>\n",
       "      <td>&lt;!DOCTYPE html&gt;\\n&lt;html lang=\"en\"&gt;\\n&lt;head&gt;\\n  &lt;...</td>\n",
       "    </tr>\n",
       "    <tr>\n",
       "      <th>4</th>\n",
       "      <td>Create a comprehensive personal website that o...</td>\n",
       "      <td>&lt;!DOCTYPE html&gt;\\n&lt;html lang=\"en\"&gt;\\n&lt;head&gt;\\n  &lt;...</td>\n",
       "    </tr>\n",
       "    <tr>\n",
       "      <th>5</th>\n",
       "      <td>Create a meticulously crafted Transportation H...</td>\n",
       "      <td>&lt;!DOCTYPE html&gt;\\n&lt;html lang=\"en\"&gt;\\n&lt;head&gt;\\n  &lt;...</td>\n",
       "    </tr>\n",
       "    <tr>\n",
       "      <th>6</th>\n",
       "      <td>Create a comprehensive website that represents...</td>\n",
       "      <td>&lt;!DOCTYPE html&gt;\\n&lt;html lang=\"en\"&gt;\\n\\n&lt;head&gt;\\n ...</td>\n",
       "    </tr>\n",
       "  </tbody>\n",
       "</table>\n",
       "</div>"
      ],
      "text/plain": [
       "                                         instruction  \\\n",
       "0  Create a website for a personal blog, featurin...   \n",
       "1  Create a comprehensive website that features a...   \n",
       "2  Create a comprehensive news website characteri...   \n",
       "3  Create a dynamic online shop website that offe...   \n",
       "4  Create a comprehensive personal website that o...   \n",
       "5  Create a meticulously crafted Transportation H...   \n",
       "6  Create a comprehensive website that represents...   \n",
       "\n",
       "                                              output  \n",
       "0  <!DOCTYPE html>\\n<html lang=\"en\">\\n<head>\\n  <...  \n",
       "1  <!DOCTYPE html>\\n<html lang=\"en\">\\n\\n<head>\\n ...  \n",
       "2  <!DOCTYPE html>\\n<html lang=\"en\">\\n<head>\\n  <...  \n",
       "3  <!DOCTYPE html>\\n<html lang=\"en\">\\n<head>\\n  <...  \n",
       "4  <!DOCTYPE html>\\n<html lang=\"en\">\\n<head>\\n  <...  \n",
       "5  <!DOCTYPE html>\\n<html lang=\"en\">\\n<head>\\n  <...  \n",
       "6  <!DOCTYPE html>\\n<html lang=\"en\">\\n\\n<head>\\n ...  "
      ]
     },
     "execution_count": 14,
     "metadata": {},
     "output_type": "execute_result"
    }
   ],
   "source": [
    "seeds_dir = './seeds'\n",
    "seed_df = pd.read_json(os.path.join(seeds_dir, 'seeds.json'))\n",
    "\n",
    "def get_seed_output(row):\n",
    "  with open(os.path.join(seeds_dir, row['output_file']), 'r') as f:\n",
    "    seed_output = f.read()\n",
    "  return seed_output\n",
    "\n",
    "seed_df['output'] = seed_df.apply(get_seed_output, axis=1)\n",
    "seed_df[['instruction', 'output']]"
   ]
  },
  {
   "cell_type": "code",
   "execution_count": 25,
   "metadata": {},
   "outputs": [
    {
     "data": {
      "text/plain": [
       "count       7.000000\n",
       "mean     4763.857143\n",
       "std       529.094015\n",
       "min      4265.000000\n",
       "25%      4372.500000\n",
       "50%      4536.000000\n",
       "75%      5069.000000\n",
       "max      5663.000000\n",
       "Name: output, dtype: float64"
      ]
     },
     "execution_count": 25,
     "metadata": {},
     "output_type": "execute_result"
    }
   ],
   "source": [
    "seed_df['output'].str.len().describe()"
   ]
  },
  {
   "cell_type": "code",
   "execution_count": 28,
   "metadata": {},
   "outputs": [
    {
     "data": {
      "text/plain": [
       "count       7.000000\n",
       "mean     2206.857143\n",
       "std       285.123616\n",
       "min      1849.000000\n",
       "25%      2027.000000\n",
       "50%      2187.000000\n",
       "75%      2324.500000\n",
       "max      2709.000000\n",
       "Name: tokens, dtype: float64"
      ]
     },
     "execution_count": 28,
     "metadata": {},
     "output_type": "execute_result"
    }
   ],
   "source": [
    "seed_df['tokens'] = [2011, 2709, 2240, 2043, 2187, 1849, 2409]\n",
    "tokens_desc = seed_df['tokens'].describe()\n",
    "tokens_desc"
   ]
  },
  {
   "cell_type": "code",
   "execution_count": 38,
   "metadata": {},
   "outputs": [
    {
     "name": "stdout",
     "output_type": "stream",
     "text": [
      "Remaining tokens for generated tasks: 8879.428571428572\n"
     ]
    }
   ],
   "source": [
    "max_tokens = 16000\n",
    "prompt_tokens = 500\n",
    "seeds_tokens = tokens_desc['mean'] * 3\n",
    "remaining_tokens = max_tokens - (prompt_tokens + seeds_tokens)\n",
    "print('Remaining tokens for generated tasks:', remaining_tokens)"
   ]
  },
  {
   "cell_type": "code",
   "execution_count": 37,
   "metadata": {},
   "outputs": [
    {
     "name": "stdout",
     "output_type": "stream",
     "text": [
      "Max. number of generated tasks: 4.023368720870016\n"
     ]
    }
   ],
   "source": [
    "print('Max. number of generated tasks:', remaining_tokens / tokens_desc['mean'])"
   ]
  }
 ],
 "metadata": {
  "kernelspec": {
   "display_name": "py3.9",
   "language": "python",
   "name": "python3"
  },
  "language_info": {
   "codemirror_mode": {
    "name": "ipython",
    "version": 3
   },
   "file_extension": ".py",
   "mimetype": "text/x-python",
   "name": "python",
   "nbconvert_exporter": "python",
   "pygments_lexer": "ipython3",
   "version": "3.9.2"
  },
  "orig_nbformat": 4
 },
 "nbformat": 4,
 "nbformat_minor": 2
}
