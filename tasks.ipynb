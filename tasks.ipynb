{
 "cells": [
  {
   "cell_type": "code",
   "execution_count": 11,
   "metadata": {},
   "outputs": [],
   "source": [
    "import utils"
   ]
  },
  {
   "attachments": {},
   "cell_type": "markdown",
   "metadata": {},
   "source": [
    "# Seed Tasks"
   ]
  },
  {
   "cell_type": "code",
   "execution_count": 4,
   "metadata": {},
   "outputs": [
    {
     "data": {
      "text/html": [
       "<div>\n",
       "<style scoped>\n",
       "    .dataframe tbody tr th:only-of-type {\n",
       "        vertical-align: middle;\n",
       "    }\n",
       "\n",
       "    .dataframe tbody tr th {\n",
       "        vertical-align: top;\n",
       "    }\n",
       "\n",
       "    .dataframe thead th {\n",
       "        text-align: right;\n",
       "    }\n",
       "</style>\n",
       "<table border=\"1\" class=\"dataframe\">\n",
       "  <thead>\n",
       "    <tr style=\"text-align: right;\">\n",
       "      <th></th>\n",
       "      <th>instruction</th>\n",
       "      <th>output</th>\n",
       "    </tr>\n",
       "  </thead>\n",
       "  <tbody>\n",
       "    <tr>\n",
       "      <th>0</th>\n",
       "      <td>Write an HTML code file for a online shop website</td>\n",
       "      <td>&lt;!DOCTYPE html&gt;\\n&lt;html lang=\"en\"&gt;\\n&lt;head&gt;\\n  &lt;...</td>\n",
       "    </tr>\n",
       "    <tr>\n",
       "      <th>1</th>\n",
       "      <td>Write an HTML code file for a blog website</td>\n",
       "      <td>&lt;!DOCTYPE html&gt;\\n&lt;html lang=\"en\"&gt;\\n&lt;head&gt;\\n  &lt;...</td>\n",
       "    </tr>\n",
       "    <tr>\n",
       "      <th>2</th>\n",
       "      <td>Write an HTML code file for a personal website</td>\n",
       "      <td>&lt;!DOCTYPE html&gt;\\n&lt;html lang=\"en\"&gt;\\n&lt;head&gt;\\n  &lt;...</td>\n",
       "    </tr>\n",
       "    <tr>\n",
       "      <th>3</th>\n",
       "      <td>Write an HTML code file for a travel agency we...</td>\n",
       "      <td>&lt;!DOCTYPE html&gt;\\n&lt;html lang=\"en\"&gt;\\n\\n&lt;head&gt;\\n ...</td>\n",
       "    </tr>\n",
       "    <tr>\n",
       "      <th>4</th>\n",
       "      <td>Write an HTML code file for a news website</td>\n",
       "      <td>&lt;!DOCTYPE html&gt;\\n&lt;html lang=\"en\"&gt;\\n&lt;head&gt;\\n  &lt;...</td>\n",
       "    </tr>\n",
       "    <tr>\n",
       "      <th>5</th>\n",
       "      <td>Write an HTML code file for a company website</td>\n",
       "      <td>&lt;!DOCTYPE html&gt;\\n&lt;html lang=\"en\"&gt;\\n\\n&lt;head&gt;\\n ...</td>\n",
       "    </tr>\n",
       "    <tr>\n",
       "      <th>6</th>\n",
       "      <td>Write an HTML code file for a transportation w...</td>\n",
       "      <td>&lt;!DOCTYPE html&gt;\\n&lt;html lang=\"en\"&gt;\\n&lt;head&gt;\\n  &lt;...</td>\n",
       "    </tr>\n",
       "  </tbody>\n",
       "</table>\n",
       "</div>"
      ],
      "text/plain": [
       "                                         instruction  \\\n",
       "0  Write an HTML code file for a online shop website   \n",
       "1         Write an HTML code file for a blog website   \n",
       "2     Write an HTML code file for a personal website   \n",
       "3  Write an HTML code file for a travel agency we...   \n",
       "4         Write an HTML code file for a news website   \n",
       "5      Write an HTML code file for a company website   \n",
       "6  Write an HTML code file for a transportation w...   \n",
       "\n",
       "                                              output  \n",
       "0  <!DOCTYPE html>\\n<html lang=\"en\">\\n<head>\\n  <...  \n",
       "1  <!DOCTYPE html>\\n<html lang=\"en\">\\n<head>\\n  <...  \n",
       "2  <!DOCTYPE html>\\n<html lang=\"en\">\\n<head>\\n  <...  \n",
       "3  <!DOCTYPE html>\\n<html lang=\"en\">\\n\\n<head>\\n ...  \n",
       "4  <!DOCTYPE html>\\n<html lang=\"en\">\\n<head>\\n  <...  \n",
       "5  <!DOCTYPE html>\\n<html lang=\"en\">\\n\\n<head>\\n ...  \n",
       "6  <!DOCTYPE html>\\n<html lang=\"en\">\\n<head>\\n  <...  "
      ]
     },
     "execution_count": 4,
     "metadata": {},
     "output_type": "execute_result"
    }
   ],
   "source": [
    "import os\n",
    "import pandas as pd\n",
    "\n",
    "\n",
    "seeds_dir=\"./seeds\"\n",
    "instruction_path=\"./instruction.txt\"\n",
    "\n",
    "with open(instruction_path, 'r') as f:\n",
    "  instruction = f.read()\n",
    "\n",
    "seed_instruction_data = []\n",
    "seed_paths = os.listdir(seeds_dir)\n",
    "for seed_path in seed_paths:\n",
    "  # Check if the path is a file (not a directory)\n",
    "  if not os.path.isfile(os.path.join(seeds_dir, seed_path)): continue\n",
    "  \n",
    "  seed_website_type, file_ext = os.path.splitext(seed_path)\n",
    "  \n",
    "  # Check if the file is HTML file\n",
    "  if file_ext.lower() != '.html': continue\n",
    "  \n",
    "  with open(os.path.join(seeds_dir, seed_path), 'r') as f:\n",
    "    seed_output = f.read()\n",
    "    seed = {\n",
    "      # Format the instruction template with the dynamic substring\n",
    "      'instruction': instruction.format(website_type=seed_website_type.replace('-', ' ')), \n",
    "      'output': seed_output,\n",
    "    }\n",
    "    seed_instruction_data.append(seed)\n",
    "\n",
    "df = pd.DataFrame(seed_instruction_data)\n",
    "df"
   ]
  },
  {
   "cell_type": "code",
   "execution_count": 7,
   "metadata": {},
   "outputs": [
    {
     "data": {
      "text/plain": [
       "5579"
      ]
     },
     "execution_count": 7,
     "metadata": {},
     "output_type": "execute_result"
    }
   ],
   "source": [
    "df['output'].str.len().max()"
   ]
  },
  {
   "attachments": {},
   "cell_type": "markdown",
   "metadata": {},
   "source": [
    "# Generated Tasks"
   ]
  },
  {
   "cell_type": "code",
   "execution_count": 10,
   "metadata": {},
   "outputs": [
    {
     "name": "stdout",
     "output_type": "stream",
     "text": [
      "<!DOCTYPE html>\n",
      "<html lang=\"en\">\n",
      "<head>\n",
      "  <meta charset=\"UTF-8\">\n",
      "  <meta name=\"viewport\" content=\"width=device-width, initial-scale=1.0\">\n",
      "  <title>Blog Website</title>\n",
      "  <!-- Bootstrap 5.3 CSS -->\n",
      "  <link rel=\"stylesheet\" href=\"https://cdn.jsdelivr.net/npm/bootstrap@5.3.0/dist/css/bootstrap.min.css\">\n",
      "  <!-- FontAwesome 5.15 CSS -->\n",
      "  <link rel=\"stylesheet\" href=\"https://cdnjs.cloudflare.com/ajax/libs/font-awesome/5.15.0/css/all.min.css\">\n",
      "</head>\n",
      "<body>\n",
      "  <header class=\"bg-primary text-white py-3\">\n",
      "    <div class=\"container text-center\">\n",
      "      <h1>Welcome to Our Blog</h1>\n",
      "    </div>\n",
      "  </header>\n",
      "\n",
      "  <section class=\"py-5\">\n",
      "    <div class=\"container\">\n",
      "      <div class=\"row\">\n",
      "        <div class=\"col-lg-4 mb-4\">\n",
      "          <img src=\"https://via.placeholder.com/300\" alt=\"A photo of a beautiful sunset at the beach with palm trees and waves crashing on the shore.\">\n",
      "          <h3 class=\"mt-3\">Sunset at the Beach</h3>\n",
      "          <p>A photo of a beautiful sunset at the beach with palm trees and waves crashing on the shore.</p>\n",
      "        </div>\n",
      "        <div class=\"col-lg-4 mb-4\">\n",
      "          <img src=\"https://via.placeholder.com/300\" alt=\"A photo of a delicious and colorful fruit salad with fresh berries and tropical fruits.\">\n",
      "          <h3 class=\"mt-3\">Delicious Fruit Salad</h3>\n",
      "          <p>A photo of a delicious and colorful fruit salad with fresh berries and tropical fruits.</p>\n",
      "        </div>\n",
      "        <div class=\"col-lg-4 mb-4\">\n",
      "          <img src=\"https://via.placeholder.com/300\" alt=\"A photo of a cute puppy playing in the park with a tennis ball.\">\n",
      "          <h3 class=\"mt-3\">Playful Puppy</h3>\n",
      "          <p>A photo of a cute puppy playing in the park with a tennis ball.</p>\n",
      "        </div>\n",
      "      </div>\n",
      "    </div>\n",
      "  </section>\n",
      "\n",
      "  <section class=\"bg-light py-5\">\n",
      "    <div class=\"container\">\n",
      "      <h2>Recent Posts</h2>\n",
      "      <div class=\"row\">\n",
      "        <div class=\"col-md-4 mb-4\">\n",
      "          <h4>Post Title</h4>\n",
      "          <p>Lorem ipsum dolor sit amet, consectetur adipiscing elit. Aenean vitae eleifend quam. Nullam ac tristique nulla.</p>\n",
      "        </div>\n",
      "        <div class=\"col-md-4 mb-4\">\n",
      "          <h4>Post Title</h4>\n",
      "          <p>Lorem ipsum dolor sit amet, consectetur adipiscing elit. Aenean vitae eleifend quam. Nullam ac tristique nulla.</p>\n",
      "        </div>\n",
      "        <div class=\"col-md-4 mb-4\">\n",
      "          <h4>Post Title</h4>\n",
      "          <p>Lorem ipsum dolor sit amet, consectetur adipiscing elit. Aenean vitae eleifend quam. Nullam ac tristique nulla.</p>\n",
      "        </div>\n",
      "      </div>\n",
      "    </div>\n",
      "  </section>\n",
      "\n",
      "  <footer class=\"bg-primary text-white py-3\">\n",
      "    <div class=\"container text-center\">\n",
      "      <p>&copy; 2023 Blog Website. All rights reserved.</p>\n",
      "    </div>\n",
      "  </footer>\n",
      "\n",
      "  <!-- Bootstrap 5.3 JS (Popper.js and Bootstrap.js included) -->\n",
      "  <script src=\"https://cdn.jsdelivr.net/npm/bootstrap@5.3.0/dist/js/bootstrap.bundle.min.js\"></script>\n",
      "</body>\n",
      "</html>\n"
     ]
    }
   ],
   "source": [
    "regen = utils.jload('regen.json')\n",
    "print(regen[0]['output'])"
   ]
  }
 ],
 "metadata": {
  "kernelspec": {
   "display_name": "py3.9",
   "language": "python",
   "name": "python3"
  },
  "language_info": {
   "codemirror_mode": {
    "name": "ipython",
    "version": 3
   },
   "file_extension": ".py",
   "mimetype": "text/x-python",
   "name": "python",
   "nbconvert_exporter": "python",
   "pygments_lexer": "ipython3",
   "version": "3.9.2"
  },
  "orig_nbformat": 4
 },
 "nbformat": 4,
 "nbformat_minor": 2
}
