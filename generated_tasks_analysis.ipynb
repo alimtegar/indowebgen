{
 "cells": [
  {
   "cell_type": "code",
   "execution_count": 180,
   "metadata": {},
   "outputs": [],
   "source": [
    "import utils\n",
    "\n",
    "from datetime import datetime\n",
    "import numpy as np\n",
    "import pandas as pd\n",
    "import matplotlib.pyplot as plt\n",
    "import seaborn as sns\n",
    "from bs4 import BeautifulSoup\n",
    "from huggingface_hub import login\n",
    "from transformers import LlamaTokenizer\n",
    "\n",
    "pd.set_option('display.max_rows', 120)\n",
    "pd.set_option('max_colwidth', 1000)\n",
    "\n",
    "secrets = utils.jload('secrets.json')"
   ]
  },
  {
   "cell_type": "code",
   "execution_count": 153,
   "metadata": {},
   "outputs": [
    {
     "name": "stdout",
     "output_type": "stream",
     "text": [
      "Number of generated tasks: 100\n"
     ]
    }
   ],
   "source": [
    "generated_tasks = utils.jload('regen.json')\n",
    "df = pd.DataFrame(generated_tasks)\n",
    "print('Number of generated tasks:', len(df))"
   ]
  },
  {
   "attachments": {},
   "cell_type": "markdown",
   "metadata": {},
   "source": [
    "### Check `alt` Text"
   ]
  },
  {
   "cell_type": "code",
   "execution_count": 154,
   "metadata": {},
   "outputs": [
    {
     "name": "stdout",
     "output_type": "stream",
     "text": [
      "Number of alt texts with word count >= 5: 0\n",
      "Number of alt texts with word count < 5: 100\n"
     ]
    }
   ],
   "source": [
    "def get_alt_texts(html):\n",
    "    alt_texts = []\n",
    "    soup = BeautifulSoup(html, 'html.parser')\n",
    "    img_tags = soup.find_all('img', alt=True)\n",
    "    \n",
    "    for img_tag in img_tags:\n",
    "        alt_text = img_tag['alt'].strip()\n",
    "        if alt_text:\n",
    "            alt_texts.append(alt_text)\n",
    "            \n",
    "    return alt_texts\n",
    "  \n",
    "def get_avg_alt_word_count(alt_texts):\n",
    "  total_words = 0\n",
    "  total_strings = len(alt_texts)\n",
    "\n",
    "  for string in alt_texts:\n",
    "      words = string.split()\n",
    "      total_words += len(words)\n",
    "\n",
    "  if total_strings > 0:\n",
    "      avg_word_count = total_words / total_strings\n",
    "  else:\n",
    "      avg_word_count = 0\n",
    "\n",
    "  return int(avg_word_count)\n",
    "  \n",
    "# Check the word counts of alt texts in HTML outputs\n",
    "df['alt_texts'] = df['output'].apply(get_alt_texts)\n",
    "df['avg_alt_word_count'] = df['alt_texts'].apply(get_avg_alt_word_count)\n",
    "\n",
    "alt_word_count_gte_5_df = df[df['avg_alt_word_count'] >= 5]\n",
    "alt_word_count_lt_5_df = df[df['avg_alt_word_count'] < 5]\n",
    "\n",
    "print('Number of alt texts with word count >= 5:', len(alt_word_count_gte_5_df))\n",
    "print('Number of alt texts with word count < 5:', len(alt_word_count_lt_5_df))"
   ]
  },
  {
   "cell_type": "code",
   "execution_count": 155,
   "metadata": {},
   "outputs": [],
   "source": [
    "# new_generated_tasks_file_name = f'regen_new_{datetime.now().strftime(\"%Y%m%d%H%M%S\")}.json'\n",
    "\n",
    "# # Export data with alt texts having a word count < 5 to JSON\n",
    "# alt_word_count_lt_5_df[[\n",
    "#   'instruction', \n",
    "#   'output', \n",
    "#   'most_similar_instructions', \n",
    "#   'avg_similarity_score'\n",
    "# ]].to_json(new_generated_tasks_file_name, orient='records')\n",
    "# print(f'{new_generated_tasks_file_name} exported sucessfully!')"
   ]
  },
  {
   "attachments": {},
   "cell_type": "markdown",
   "metadata": {},
   "source": [
    "### Check Character Distribution"
   ]
  },
  {
   "cell_type": "code",
   "execution_count": 156,
   "metadata": {},
   "outputs": [
    {
     "data": {
      "image/png": "[encoded data removed]",
      "text/plain": [
       "<Figure size 720x432 with 1 Axes>"
      ]
     },
     "metadata": {
      "needs_background": "light"
     },
     "output_type": "display_data"
    }
   ],
   "source": [
    "char_counts = df[['instruction', 'output']].applymap(len).sum(axis=1)\n",
    "\n",
    "# Check the distribution of characters\n",
    "plt.figure(figsize=(10,6))\n",
    "sns.histplot(char_counts, kde=True)\n",
    "plt.show()"
   ]
  },
  {
   "attachments": {},
   "cell_type": "markdown",
   "metadata": {},
   "source": [
    "### Check Token"
   ]
  },
  {
   "cell_type": "code",
   "execution_count": 181,
   "metadata": {},
   "outputs": [
    {
     "name": "stdout",
     "output_type": "stream",
     "text": [
      "Token will not been saved to git credential helper. Pass `add_to_git_credential=True` if you want to set the git credential as well.\n",
      "Token is valid (permission: write).\n",
      "Your token has been saved to /Users/admin/.cache/huggingface/token\n",
      "Login successful\n"
     ]
    }
   ],
   "source": [
    "login(token=secrets['HUGGING_FACE_TOKEN'])"
   ]
  },
  {
   "cell_type": "code",
   "execution_count": 182,
   "metadata": {},
   "outputs": [
    {
     "data": {
      "application/vnd.jupyter.widget-view+json": {
       "model_id": "ff014ba6d0724a20910379df838251ca",
       "version_major": 2,
       "version_minor": 0
      },
      "text/plain": [
       "Downloading tokenizer.model:   0%|          | 0.00/500k [00:00<?, ?B/s]"
      ]
     },
     "metadata": {},
     "output_type": "display_data"
    },
    {
     "data": {
      "application/vnd.jupyter.widget-view+json": {
       "model_id": "e576bc362b324111b761763699c8ec45",
       "version_major": 2,
       "version_minor": 0
      },
      "text/plain": [
       "Downloading (…)cial_tokens_map.json:   0%|          | 0.00/414 [00:00<?, ?B/s]"
      ]
     },
     "metadata": {},
     "output_type": "display_data"
    },
    {
     "data": {
      "application/vnd.jupyter.widget-view+json": {
       "model_id": "8f879833d0e74783abb0e1cf5eadf814",
       "version_major": 2,
       "version_minor": 0
      },
      "text/plain": [
       "Downloading (…)okenizer_config.json:   0%|          | 0.00/776 [00:00<?, ?B/s]"
      ]
     },
     "metadata": {},
     "output_type": "display_data"
    }
   ],
   "source": [
    "tokenizer = LlamaTokenizer.from_pretrained('meta-llama/Llama-2-7b-hf')"
   ]
  },
  {
   "cell_type": "code",
   "execution_count": 205,
   "metadata": {},
   "outputs": [
    {
     "name": "stdout",
     "output_type": "stream",
     "text": [
      "Max. number of tokens: 2542\n",
      "Mean number of tokens: 1522\n"
     ]
    }
   ],
   "source": [
    "prompt = 'Below is an instruction that describes a task. Write a response that appropriately completes the request.\\n\\n### Instruction:\\n{instruction}\\n\\n### Response:\\n{output}'\n",
    "max_char_task = df.iloc[char_counts.argmax()].to_dict()\n",
    "formatted_prompt = prompt.format(**max_char_task)\n",
    "\n",
    "input_ids = tokenizer(formatted_prompt, return_tensors='pt').input_ids\n",
    "print('Max. number of tokens:', len(input_ids[0])) \n",
    "print('Mean number of tokens:', int(char_counts.mean()/(char_counts.max()/len(input_ids[0]))))"
   ]
  }
 ],
 "metadata": {
  "kernelspec": {
   "display_name": "py3.9",
   "language": "python",
   "name": "python3"
  },
  "language_info": {
   "codemirror_mode": {
    "name": "ipython",
    "version": 3
   },
   "file_extension": ".py",
   "mimetype": "text/x-python",
   "name": "python",
   "nbconvert_exporter": "python",
   "pygments_lexer": "ipython3",
   "version": "3.9.2"
  },
  "orig_nbformat": 4
 },
 "nbformat": 4,
 "nbformat_minor": 2
}
