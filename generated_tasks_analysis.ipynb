{
 "cells": [
  {
   "cell_type": "code",
   "execution_count": 147,
   "metadata": {},
   "outputs": [],
   "source": [
    "import utils\n",
    "\n",
    "from datetime import datetime\n",
    "import numpy as np\n",
    "import pandas as pd\n",
    "import matplotlib.pyplot as plt\n",
    "import seaborn as sns\n",
    "from bs4 import BeautifulSoup\n",
    "\n",
    "pd.set_option('display.max_rows', 120)\n",
    "pd.set_option('max_colwidth', 1000)"
   ]
  },
  {
   "cell_type": "code",
   "execution_count": 134,
   "metadata": {},
   "outputs": [
    {
     "name": "stdout",
     "output_type": "stream",
     "text": [
      "Number of generated tasks: 120\n"
     ]
    }
   ],
   "source": [
    "generated_tasks = utils.jload('regen.json')\n",
    "df = pd.DataFrame(generated_tasks)\n",
    "print('Number of generated tasks:', len(df))"
   ]
  },
  {
   "attachments": {},
   "cell_type": "markdown",
   "metadata": {},
   "source": [
    "### Check `alt` Text"
   ]
  },
  {
   "cell_type": "code",
   "execution_count": 137,
   "metadata": {},
   "outputs": [
    {
     "name": "stdout",
     "output_type": "stream",
     "text": [
      "Number of alt texts with word count >= 5: 48\n",
      "Number of alt texts with word count < 5: 72\n"
     ]
    }
   ],
   "source": [
    "def get_alt_texts(html):\n",
    "    alt_texts = []\n",
    "    soup = BeautifulSoup(html, 'html.parser')\n",
    "    img_tags = soup.find_all('img', alt=True)\n",
    "    \n",
    "    for img_tag in img_tags:\n",
    "        alt_text = img_tag['alt'].strip()\n",
    "        if alt_text:\n",
    "            alt_texts.append(alt_text)\n",
    "            \n",
    "    return alt_texts\n",
    "  \n",
    "def get_avg_alt_word_count(alt_texts):\n",
    "  total_words = 0\n",
    "  total_strings = len(alt_texts)\n",
    "\n",
    "  for string in alt_texts:\n",
    "      words = string.split()\n",
    "      total_words += len(words)\n",
    "\n",
    "  if total_strings > 0:\n",
    "      avg_word_count = total_words / total_strings\n",
    "  else:\n",
    "      avg_word_count = 0\n",
    "\n",
    "  return int(avg_word_count)\n",
    "  \n",
    "# Check the word counts of alt texts in HTML outputs\n",
    "df['alt_texts'] = df['output'].apply(get_alt_texts)\n",
    "df['avg_alt_word_count'] = df['alt_texts'].apply(get_avg_alt_word_count)\n",
    "\n",
    "alt_word_count_gte_5_df = df[df['avg_alt_word_count'] >= 5]\n",
    "alt_word_count_lt_5_df = df[df['avg_alt_word_count'] < 5]\n",
    "\n",
    "print('Number of alt texts with word count >= 5:', len(alt_word_count_gte_5_df))\n",
    "print('Number of alt texts with word count < 5:', len(alt_word_count_lt_5_df))"
   ]
  },
  {
   "cell_type": "code",
   "execution_count": 151,
   "metadata": {},
   "outputs": [
    {
     "name": "stdout",
     "output_type": "stream",
     "text": [
      "regen_new_20230803141205.json exported sucessfully!\n"
     ]
    }
   ],
   "source": [
    "new_generated_tasks_file_name = f'regen_new_{datetime.now().strftime(\"%Y%m%d%H%M%S\")}.json'\n",
    "\n",
    "# Export data with alt texts having a word count < 5 to JSON\n",
    "alt_word_count_lt_5_df[[\n",
    "  'instruction', \n",
    "  'output', \n",
    "  'most_similar_instructions', \n",
    "  'avg_similarity_score'\n",
    "]].to_json(new_generated_tasks_file_name, orient='records')\n",
    "print(f'{new_generated_tasks_file_name} exported sucessfully!')"
   ]
  },
  {
   "attachments": {},
   "cell_type": "markdown",
   "metadata": {},
   "source": [
    "### Check Distribution"
   ]
  },
  {
   "cell_type": "code",
   "execution_count": 51,
   "metadata": {},
   "outputs": [
    {
     "data": {
      "image/png": "[encoded data removed]",
      "text/plain": [
       "<Figure size 720x432 with 1 Axes>"
      ]
     },
     "metadata": {
      "needs_background": "light"
     },
     "output_type": "display_data"
    }
   ],
   "source": [
    "char_counts = df[['instruction', 'output']].applymap(len).sum(axis=1)\n",
    "\n",
    "# Check the distribution of generated tasks\n",
    "plt.figure(figsize=(10,6))\n",
    "sns.histplot(char_counts, kde=True)\n",
    "plt.show()"
   ]
  }
 ],
 "metadata": {
  "kernelspec": {
   "display_name": "py3.9",
   "language": "python",
   "name": "python3"
  },
  "language_info": {
   "codemirror_mode": {
    "name": "ipython",
    "version": 3
   },
   "file_extension": ".py",
   "mimetype": "text/x-python",
   "name": "python",
   "nbconvert_exporter": "python",
   "pygments_lexer": "ipython3",
   "version": "3.9.2"
  },
  "orig_nbformat": 4
 },
 "nbformat": 4,
 "nbformat_minor": 2
}
