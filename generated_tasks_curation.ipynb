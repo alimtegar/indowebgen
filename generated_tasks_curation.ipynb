{
 "cells": [
  {
   "cell_type": "code",
   "execution_count": 85,
   "metadata": {},
   "outputs": [
    {
     "data": {
      "text/html": [
       "<div>\n",
       "<style scoped>\n",
       "    .dataframe tbody tr th:only-of-type {\n",
       "        vertical-align: middle;\n",
       "    }\n",
       "\n",
       "    .dataframe tbody tr th {\n",
       "        vertical-align: top;\n",
       "    }\n",
       "\n",
       "    .dataframe thead th {\n",
       "        text-align: right;\n",
       "    }\n",
       "</style>\n",
       "<table border=\"1\" class=\"dataframe\">\n",
       "  <thead>\n",
       "    <tr style=\"text-align: right;\">\n",
       "      <th></th>\n",
       "      <th>instruction</th>\n",
       "      <th>output</th>\n",
       "      <th>most_similar_instructions</th>\n",
       "      <th>avg_similarity_score</th>\n",
       "      <th>curation_status</th>\n",
       "      <th>curation_message</th>\n",
       "    </tr>\n",
       "  </thead>\n",
       "  <tbody>\n",
       "    <tr>\n",
       "      <th>0</th>\n",
       "      <td>Create a modern and elegant website for an onl...</td>\n",
       "      <td>&lt;!DOCTYPE html&gt;\\n&lt;html lang=\"en\"&gt;\\n&lt;head&gt;\\n  &lt;...</td>\n",
       "      <td>{'Create a website for an online magazine dedi...</td>\n",
       "      <td>0.302043</td>\n",
       "      <td>1</td>\n",
       "      <td></td>\n",
       "    </tr>\n",
       "    <tr>\n",
       "      <th>1</th>\n",
       "      <td>Design an interactive and user-engaging websit...</td>\n",
       "      <td>&lt;!DOCTYPE html&gt;\\r\\n&lt;html lang=\"en\"&gt;\\r\\n&lt;head&gt;\\...</td>\n",
       "      <td>{'Create an interactive portfolio website that...</td>\n",
       "      <td>0.308442</td>\n",
       "      <td>1</td>\n",
       "      <td></td>\n",
       "    </tr>\n",
       "    <tr>\n",
       "      <th>2</th>\n",
       "      <td>Develop a website for a travel agency that foc...</td>\n",
       "      <td>&lt;!DOCTYPE html&gt;\\n&lt;html lang=\"en\"&gt;\\n&lt;head&gt;\\n  &lt;...</td>\n",
       "      <td>{'Create a modern and elegant website for an o...</td>\n",
       "      <td>0.341845</td>\n",
       "      <td>1</td>\n",
       "      <td></td>\n",
       "    </tr>\n",
       "  </tbody>\n",
       "</table>\n",
       "</div>"
      ],
      "text/plain": [
       "                                         instruction  \\\n",
       "0  Create a modern and elegant website for an onl...   \n",
       "1  Design an interactive and user-engaging websit...   \n",
       "2  Develop a website for a travel agency that foc...   \n",
       "\n",
       "                                              output  \\\n",
       "0  <!DOCTYPE html>\\n<html lang=\"en\">\\n<head>\\n  <...   \n",
       "1  <!DOCTYPE html>\\r\\n<html lang=\"en\">\\r\\n<head>\\...   \n",
       "2  <!DOCTYPE html>\\n<html lang=\"en\">\\n<head>\\n  <...   \n",
       "\n",
       "                           most_similar_instructions  avg_similarity_score  \\\n",
       "0  {'Create a website for an online magazine dedi...              0.302043   \n",
       "1  {'Create an interactive portfolio website that...              0.308442   \n",
       "2  {'Create a modern and elegant website for an o...              0.341845   \n",
       "\n",
       "   curation_status curation_message  \n",
       "0                1                   \n",
       "1                1                   \n",
       "2                1                   "
      ]
     },
     "execution_count": 85,
     "metadata": {},
     "output_type": "execute_result"
    }
   ],
   "source": [
    "import pandas as pd\n",
    "from IPython.display import HTML, clear_output\n",
    "\n",
    "\n",
    "df = pd.read_json('regen.json')\n",
    "df.head(3)"
   ]
  },
  {
   "cell_type": "code",
   "execution_count": 86,
   "metadata": {},
   "outputs": [],
   "source": [
    "curation_df = pd.DataFrame(columns=['curation_status', 'curation_message'])"
   ]
  },
  {
   "cell_type": "code",
   "execution_count": null,
   "metadata": {},
   "outputs": [],
   "source": [
    "for idx, row in df[df['curation_status'] == 0].iterrows():\n",
    "  last_idx = idx\n",
    "  instruction, output, most_similar_instructions, avg_similarity_score, _, __ = row\n",
    "  stop = False\n",
    "  while not stop:\n",
    "    clear_output(wait=True)\n",
    "    display(HTML(output))\n",
    "    \n",
    "    print(f'''Instruction: {instruction}\n",
    "    Output: {output}''')\n",
    "    \n",
    "    curator_input = input(f'{idx}. Is the data good? (yes/no/mark/stop):')\n",
    "    curator_input = curator_input.strip()\n",
    "    if curator_input == 'yes':\n",
    "      curation_df.loc[idx] = {\n",
    "        'curation_status': 1,\n",
    "        'curation_message': '',\n",
    "      }\n",
    "      break\n",
    "    elif curator_input == 'no':\n",
    "      curation_df.loc[idx] = {\n",
    "        'curation_status': -1,\n",
    "        'curation_message': '',\n",
    "      }\n",
    "      break\n",
    "    # Mark the data if you think the data can be fixed/improved manually\n",
    "    elif curator_input == 'mark':\n",
    "      suggestion = input('Suggestion: ')\n",
    "      curation_df.loc[idx] = {\n",
    "        'curation_status': 0,\n",
    "        'curation_message': suggestion,\n",
    "      }\n",
    "      break\n",
    "    elif curator_input == 'stop':\n",
    "      stop = True\n",
    "    else:\n",
    "      print('Invalid input:', '\"' + curator_input + '\"')\n",
    "  if stop:\n",
    "    break\n"
   ]
  },
  {
   "cell_type": "code",
   "execution_count": 88,
   "metadata": {},
   "outputs": [
    {
     "data": {
      "text/html": [
       "<div>\n",
       "<style scoped>\n",
       "    .dataframe tbody tr th:only-of-type {\n",
       "        vertical-align: middle;\n",
       "    }\n",
       "\n",
       "    .dataframe tbody tr th {\n",
       "        vertical-align: top;\n",
       "    }\n",
       "\n",
       "    .dataframe thead th {\n",
       "        text-align: right;\n",
       "    }\n",
       "</style>\n",
       "<table border=\"1\" class=\"dataframe\">\n",
       "  <thead>\n",
       "    <tr style=\"text-align: right;\">\n",
       "      <th></th>\n",
       "      <th>curation_status</th>\n",
       "      <th>curation_message</th>\n",
       "    </tr>\n",
       "  </thead>\n",
       "  <tbody>\n",
       "    <tr>\n",
       "      <th>13</th>\n",
       "      <td>1</td>\n",
       "      <td></td>\n",
       "    </tr>\n",
       "  </tbody>\n",
       "</table>\n",
       "</div>"
      ],
      "text/plain": [
       "   curation_status curation_message\n",
       "13               1                 "
      ]
     },
     "execution_count": 88,
     "metadata": {},
     "output_type": "execute_result"
    }
   ],
   "source": [
    "curation_df"
   ]
  },
  {
   "cell_type": "code",
   "execution_count": 92,
   "metadata": {},
   "outputs": [
    {
     "data": {
      "text/html": [
       "<div>\n",
       "<style scoped>\n",
       "    .dataframe tbody tr th:only-of-type {\n",
       "        vertical-align: middle;\n",
       "    }\n",
       "\n",
       "    .dataframe tbody tr th {\n",
       "        vertical-align: top;\n",
       "    }\n",
       "\n",
       "    .dataframe thead th {\n",
       "        text-align: right;\n",
       "    }\n",
       "</style>\n",
       "<table border=\"1\" class=\"dataframe\">\n",
       "  <thead>\n",
       "    <tr style=\"text-align: right;\">\n",
       "      <th></th>\n",
       "      <th>instruction</th>\n",
       "      <th>output</th>\n",
       "      <th>most_similar_instructions</th>\n",
       "      <th>avg_similarity_score</th>\n",
       "      <th>curation_status</th>\n",
       "      <th>curation_message</th>\n",
       "    </tr>\n",
       "  </thead>\n",
       "  <tbody>\n",
       "    <tr>\n",
       "      <th>13</th>\n",
       "      <td>Create a website for a photography portfolio t...</td>\n",
       "      <td>&lt;!DOCTYPE html&gt;\\r\\n&lt;html lang=\"en\"&gt;\\r\\n&lt;head&gt;\\...</td>\n",
       "      <td>{'Create a website for an online store that se...</td>\n",
       "      <td>0.352588</td>\n",
       "      <td>1</td>\n",
       "      <td></td>\n",
       "    </tr>\n",
       "  </tbody>\n",
       "</table>\n",
       "</div>"
      ],
      "text/plain": [
       "                                          instruction  \\\n",
       "13  Create a website for a photography portfolio t...   \n",
       "\n",
       "                                               output  \\\n",
       "13  <!DOCTYPE html>\\r\\n<html lang=\"en\">\\r\\n<head>\\...   \n",
       "\n",
       "                            most_similar_instructions  avg_similarity_score  \\\n",
       "13  {'Create a website for an online store that se...              0.352588   \n",
       "\n",
       "   curation_status curation_message  \n",
       "13               1                   "
      ]
     },
     "execution_count": 92,
     "metadata": {},
     "output_type": "execute_result"
    }
   ],
   "source": [
    "curated_df = curation_df.combine_first(df)[df.columns]\n",
    "curated_df.iloc[curation_df.index]"
   ]
  },
  {
   "cell_type": "code",
   "execution_count": 93,
   "metadata": {},
   "outputs": [],
   "source": [
    "curated_df[curated_df['curation_status'] != -1].to_json('regen-curated.json', orient=\"records\")"
   ]
  },
  {
   "cell_type": "code",
   "execution_count": null,
   "metadata": {},
   "outputs": [],
   "source": [
    "df[['instruction', 'output']].to_json('webgen-dataset.json', orient='records')\n",
    "print('webgen-dataset.json exported sucessfully!')"
   ]
  }
 ],
 "metadata": {
  "kernelspec": {
   "display_name": "py3.9",
   "language": "python",
   "name": "python3"
  },
  "language_info": {
   "codemirror_mode": {
    "name": "ipython",
    "version": 3
   },
   "file_extension": ".py",
   "mimetype": "text/x-python",
   "name": "python",
   "nbconvert_exporter": "python",
   "pygments_lexer": "ipython3",
   "version": "3.9.2"
  },
  "orig_nbformat": 4
 },
 "nbformat": 4,
 "nbformat_minor": 2
}
