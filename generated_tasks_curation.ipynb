{
 "cells": [
  {
   "cell_type": "code",
   "execution_count": 2,
   "metadata": {},
   "outputs": [
    {
     "data": {
      "text/html": [
       "<div>\n",
       "<style scoped>\n",
       "    .dataframe tbody tr th:only-of-type {\n",
       "        vertical-align: middle;\n",
       "    }\n",
       "\n",
       "    .dataframe tbody tr th {\n",
       "        vertical-align: top;\n",
       "    }\n",
       "\n",
       "    .dataframe thead th {\n",
       "        text-align: right;\n",
       "    }\n",
       "</style>\n",
       "<table border=\"1\" class=\"dataframe\">\n",
       "  <thead>\n",
       "    <tr style=\"text-align: right;\">\n",
       "      <th></th>\n",
       "      <th>instruction</th>\n",
       "      <th>output</th>\n",
       "      <th>most_similar_instructions</th>\n",
       "      <th>avg_similarity_score</th>\n",
       "      <th>curation_status</th>\n",
       "      <th>curation_message</th>\n",
       "    </tr>\n",
       "  </thead>\n",
       "  <tbody>\n",
       "    <tr>\n",
       "      <th>197</th>\n",
       "      <td>Create a vibrant website for a music festival ...</td>\n",
       "      <td>&lt;!DOCTYPE html&gt;\\n&lt;html lang=\"en\"&gt;\\n  &lt;head&gt;\\n ...</td>\n",
       "      <td>{'Create a visually appealing website for a fi...</td>\n",
       "      <td>0.316872</td>\n",
       "      <td>1</td>\n",
       "      <td></td>\n",
       "    </tr>\n",
       "    <tr>\n",
       "      <th>198</th>\n",
       "      <td>Create a clean and modern website for a photog...</td>\n",
       "      <td>&lt;!DOCTYPE html&gt;\\n&lt;html lang=\"en\"&gt;\\n  &lt;head&gt;\\n ...</td>\n",
       "      <td>{'Create an elegant and minimalist photography...</td>\n",
       "      <td>0.355689</td>\n",
       "      <td>1</td>\n",
       "      <td></td>\n",
       "    </tr>\n",
       "    <tr>\n",
       "      <th>199</th>\n",
       "      <td>Create a modern and minimalist website for a p...</td>\n",
       "      <td>&lt;!DOCTYPE html&gt;\\n&lt;html lang=\"en\"&gt;\\n  &lt;head&gt;\\n ...</td>\n",
       "      <td>{'Create a website for a photography portfolio...</td>\n",
       "      <td>0.417742</td>\n",
       "      <td>1</td>\n",
       "      <td></td>\n",
       "    </tr>\n",
       "  </tbody>\n",
       "</table>\n",
       "</div>"
      ],
      "text/plain": [
       "                                           instruction  \\\n",
       "197  Create a vibrant website for a music festival ...   \n",
       "198  Create a clean and modern website for a photog...   \n",
       "199  Create a modern and minimalist website for a p...   \n",
       "\n",
       "                                                output  \\\n",
       "197  <!DOCTYPE html>\\n<html lang=\"en\">\\n  <head>\\n ...   \n",
       "198  <!DOCTYPE html>\\n<html lang=\"en\">\\n  <head>\\n ...   \n",
       "199  <!DOCTYPE html>\\n<html lang=\"en\">\\n  <head>\\n ...   \n",
       "\n",
       "                             most_similar_instructions  avg_similarity_score  \\\n",
       "197  {'Create a visually appealing website for a fi...              0.316872   \n",
       "198  {'Create an elegant and minimalist photography...              0.355689   \n",
       "199  {'Create a website for a photography portfolio...              0.417742   \n",
       "\n",
       "     curation_status curation_message  \n",
       "197                1                   \n",
       "198                1                   \n",
       "199                1                   "
      ]
     },
     "execution_count": 2,
     "metadata": {},
     "output_type": "execute_result"
    }
   ],
   "source": [
    "import pandas as pd\n",
    "from IPython.display import HTML, clear_output\n",
    "\n",
    "\n",
    "df = pd.read_json('regen.json')\n",
    "df.fillna(value={'curation_status': 0, 'curation_message': ''}, inplace=True)\n",
    "df.tail(3)"
   ]
  },
  {
   "cell_type": "code",
   "execution_count": 155,
   "metadata": {},
   "outputs": [],
   "source": [
    "curation_df = pd.DataFrame(columns=['curation_status', 'curation_message'])"
   ]
  },
  {
   "cell_type": "code",
   "execution_count": 156,
   "metadata": {},
   "outputs": [],
   "source": [
    "for idx, row in df[df['curation_status'] == 0].iterrows():\n",
    "  last_idx = idx\n",
    "  instruction, output, most_similar_instructions, avg_similarity_score, _, __ = row\n",
    "  stop = False\n",
    "  while not stop:\n",
    "    clear_output(wait=True)\n",
    "    display(HTML(output))\n",
    "    \n",
    "    print(f'''Instruction: {instruction}\n",
    "    Output: {output}''')\n",
    "    \n",
    "    curator_input = input(f'{idx}. Is the data good? (yes/no/mark/stop):')\n",
    "    curator_input = curator_input.strip()\n",
    "    if curator_input == 'yes':\n",
    "      curation_df.loc[idx] = {\n",
    "        'curation_status': 1,\n",
    "        'curation_message': '',\n",
    "      }\n",
    "      break\n",
    "    elif curator_input == 'no':\n",
    "      curation_df.loc[idx] = {\n",
    "        'curation_status': -1,\n",
    "        'curation_message': '',\n",
    "      }\n",
    "      break\n",
    "    # Mark the data if you think the data can be fixed/improved manually\n",
    "    elif curator_input == 'mark':\n",
    "      suggestion = input('Suggestion: ')\n",
    "      curation_df.loc[idx] = {\n",
    "        'curation_status': 0,\n",
    "        'curation_message': suggestion,\n",
    "      }\n",
    "      break\n",
    "    elif curator_input == 'stop':\n",
    "      stop = True\n",
    "    else:\n",
    "      print('Invalid input:', '\"' + curator_input + '\"')\n",
    "  if stop:\n",
    "    break\n",
    "clear_output()"
   ]
  },
  {
   "cell_type": "code",
   "execution_count": 157,
   "metadata": {},
   "outputs": [
    {
     "data": {
      "text/html": [
       "<div>\n",
       "<style scoped>\n",
       "    .dataframe tbody tr th:only-of-type {\n",
       "        vertical-align: middle;\n",
       "    }\n",
       "\n",
       "    .dataframe tbody tr th {\n",
       "        vertical-align: top;\n",
       "    }\n",
       "\n",
       "    .dataframe thead th {\n",
       "        text-align: right;\n",
       "    }\n",
       "</style>\n",
       "<table border=\"1\" class=\"dataframe\">\n",
       "  <thead>\n",
       "    <tr style=\"text-align: right;\">\n",
       "      <th></th>\n",
       "      <th>curation_status</th>\n",
       "      <th>curation_message</th>\n",
       "    </tr>\n",
       "  </thead>\n",
       "  <tbody>\n",
       "    <tr>\n",
       "      <th>199</th>\n",
       "      <td>-1</td>\n",
       "      <td></td>\n",
       "    </tr>\n",
       "    <tr>\n",
       "      <th>200</th>\n",
       "      <td>1</td>\n",
       "      <td></td>\n",
       "    </tr>\n",
       "  </tbody>\n",
       "</table>\n",
       "</div>"
      ],
      "text/plain": [
       "    curation_status curation_message\n",
       "199              -1                 \n",
       "200               1                 "
      ]
     },
     "execution_count": 157,
     "metadata": {},
     "output_type": "execute_result"
    }
   ],
   "source": [
    "curation_df"
   ]
  },
  {
   "cell_type": "code",
   "execution_count": 158,
   "metadata": {},
   "outputs": [
    {
     "data": {
      "text/html": [
       "<div>\n",
       "<style scoped>\n",
       "    .dataframe tbody tr th:only-of-type {\n",
       "        vertical-align: middle;\n",
       "    }\n",
       "\n",
       "    .dataframe tbody tr th {\n",
       "        vertical-align: top;\n",
       "    }\n",
       "\n",
       "    .dataframe thead th {\n",
       "        text-align: right;\n",
       "    }\n",
       "</style>\n",
       "<table border=\"1\" class=\"dataframe\">\n",
       "  <thead>\n",
       "    <tr style=\"text-align: right;\">\n",
       "      <th></th>\n",
       "      <th>instruction</th>\n",
       "      <th>output</th>\n",
       "      <th>most_similar_instructions</th>\n",
       "      <th>avg_similarity_score</th>\n",
       "      <th>curation_status</th>\n",
       "      <th>curation_message</th>\n",
       "    </tr>\n",
       "  </thead>\n",
       "  <tbody>\n",
       "    <tr>\n",
       "      <th>199</th>\n",
       "      <td>Create a stylish website for an online clothin...</td>\n",
       "      <td>&lt;!DOCTYPE html&gt;\\n&lt;html lang=\"en\"&gt;\\n\\n&lt;head&gt;\\n ...</td>\n",
       "      <td>{'Build a website for an online store that sel...</td>\n",
       "      <td>0.413063</td>\n",
       "      <td>-1</td>\n",
       "      <td></td>\n",
       "    </tr>\n",
       "    <tr>\n",
       "      <th>200</th>\n",
       "      <td>Create a modern and minimalist website for a p...</td>\n",
       "      <td>&lt;!DOCTYPE html&gt;\\n&lt;html lang=\"en\"&gt;\\n\\n&lt;head&gt;\\n ...</td>\n",
       "      <td>{'Create a website for a photography portfolio...</td>\n",
       "      <td>0.417742</td>\n",
       "      <td>1</td>\n",
       "      <td></td>\n",
       "    </tr>\n",
       "  </tbody>\n",
       "</table>\n",
       "</div>"
      ],
      "text/plain": [
       "                                           instruction  \\\n",
       "199  Create a stylish website for an online clothin...   \n",
       "200  Create a modern and minimalist website for a p...   \n",
       "\n",
       "                                                output  \\\n",
       "199  <!DOCTYPE html>\\n<html lang=\"en\">\\n\\n<head>\\n ...   \n",
       "200  <!DOCTYPE html>\\n<html lang=\"en\">\\n\\n<head>\\n ...   \n",
       "\n",
       "                             most_similar_instructions  avg_similarity_score  \\\n",
       "199  {'Build a website for an online store that sel...              0.413063   \n",
       "200  {'Create a website for a photography portfolio...              0.417742   \n",
       "\n",
       "    curation_status curation_message  \n",
       "199              -1                   \n",
       "200               1                   "
      ]
     },
     "execution_count": 158,
     "metadata": {},
     "output_type": "execute_result"
    }
   ],
   "source": [
    "curated_df = curation_df.combine_first(df)[df.columns]\n",
    "curated_df.iloc[curation_df.index]"
   ]
  },
  {
   "cell_type": "code",
   "execution_count": 159,
   "metadata": {},
   "outputs": [
    {
     "name": "stdout",
     "output_type": "stream",
     "text": [
      "regen-curated.json exported sucessfully!\n"
     ]
    }
   ],
   "source": [
    "curated_df[curated_df['curation_status'] != -1].to_json('regen-curated.json', orient=\"records\")\n",
    "print('regen-curated.json exported sucessfully!')"
   ]
  },
  {
   "cell_type": "code",
   "execution_count": 3,
   "metadata": {},
   "outputs": [
    {
     "name": "stdout",
     "output_type": "stream",
     "text": [
      "webgen-dataset-2.json exported sucessfully!\n"
     ]
    }
   ],
   "source": [
    "ok_df = pd.read_json('regen.json')\n",
    "ok_df[['instruction', 'output']].to_json('webgen-dataset-2.json', orient='records')\n",
    "print('webgen-dataset-2.json exported sucessfully!')"
   ]
  }
 ],
 "metadata": {
  "kernelspec": {
   "display_name": "py3.9",
   "language": "python",
   "name": "python3"
  },
  "language_info": {
   "codemirror_mode": {
    "name": "ipython",
    "version": 3
   },
   "file_extension": ".py",
   "mimetype": "text/x-python",
   "name": "python",
   "nbconvert_exporter": "python",
   "pygments_lexer": "ipython3",
   "version": "3.9.2"
  },
  "orig_nbformat": 4
 },
 "nbformat": 4,
 "nbformat_minor": 2
}
