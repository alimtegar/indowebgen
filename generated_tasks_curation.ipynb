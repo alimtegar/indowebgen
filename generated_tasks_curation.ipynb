{
 "cells": [
  {
   "cell_type": "code",
   "execution_count": 9,
   "metadata": {},
   "outputs": [],
   "source": [
    "last_idx = 0\n",
    "marked_data_idx = []\n",
    "bad_data_idx = []"
   ]
  },
  {
   "cell_type": "code",
   "execution_count": null,
   "metadata": {},
   "outputs": [],
   "source": [
    "import utils\n",
    "import pandas as pd\n",
    "from IPython.display import HTML, clear_output\n",
    "\n",
    "\n",
    "generated_tasks = utils.jload('regen.json')\n",
    "df = pd.DataFrame(generated_tasks)\n",
    "\n",
    "for idx, row in df.iterrows():\n",
    "  last_idx = idx\n",
    "  instruction, output, most_similar_instructions, avg_similarity_score = row\n",
    "  stop = False\n",
    "  while not stop:\n",
    "    clear_output(wait=True)\n",
    "    display(HTML(output))\n",
    "    \n",
    "    print(f'''Instruction: {instruction}\n",
    "    Output: {output}''')\n",
    "    \n",
    "    curator_input = input(f'{idx}. Is the data good? (yes/no/mark/stop):')\n",
    "    curator_input = curator_input.strip()\n",
    "    if curator_input == 'yes':\n",
    "      break\n",
    "    elif curator_input == 'no':\n",
    "      bad_data_idx.append(idx)\n",
    "      break\n",
    "    # Mark the data if you think the data can be fixed/improved manually\n",
    "    elif curator_input == 'mark':\n",
    "      suggestion = input('Suggestion: ')\n",
    "      marked_data_idx.append({\n",
    "        'idx': idx,\n",
    "        'suggestion': suggestion,\n",
    "      })\n",
    "      break\n",
    "    elif curator_input == 'stop':\n",
    "      stop = True\n",
    "    else:\n",
    "      print('Invalid input:', '\"' + curator_input + '\"')\n",
    "  if stop:\n",
    "    break\n"
   ]
  }
 ],
 "metadata": {
  "kernelspec": {
   "display_name": "py3.9",
   "language": "python",
   "name": "python3"
  },
  "language_info": {
   "codemirror_mode": {
    "name": "ipython",
    "version": 3
   },
   "file_extension": ".py",
   "mimetype": "text/x-python",
   "name": "python",
   "nbconvert_exporter": "python",
   "pygments_lexer": "ipython3",
   "version": "3.9.2"
  },
  "orig_nbformat": 4
 },
 "nbformat": 4,
 "nbformat_minor": 2
}
