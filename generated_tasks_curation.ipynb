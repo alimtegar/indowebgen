{
 "cells": [
  {
   "cell_type": "code",
   "execution_count": 61,
   "metadata": {},
   "outputs": [
    {
     "data": {
      "text/html": [
       "<div>\n",
       "<style scoped>\n",
       "    .dataframe tbody tr th:only-of-type {\n",
       "        vertical-align: middle;\n",
       "    }\n",
       "\n",
       "    .dataframe tbody tr th {\n",
       "        vertical-align: top;\n",
       "    }\n",
       "\n",
       "    .dataframe thead th {\n",
       "        text-align: right;\n",
       "    }\n",
       "</style>\n",
       "<table border=\"1\" class=\"dataframe\">\n",
       "  <thead>\n",
       "    <tr style=\"text-align: right;\">\n",
       "      <th></th>\n",
       "      <th>instruction</th>\n",
       "      <th>output</th>\n",
       "      <th>most_similar_instructions</th>\n",
       "      <th>avg_similarity_score</th>\n",
       "      <th>curation_status</th>\n",
       "      <th>curation_message</th>\n",
       "    </tr>\n",
       "  </thead>\n",
       "  <tbody>\n",
       "    <tr>\n",
       "      <th>498</th>\n",
       "      <td>Buatlah website blog tentang wisata di Indones...</td>\n",
       "      <td>&lt;!DOCTYPE html&gt;\\n&lt;html lang=\"id\"&gt;\\n\\n&lt;head&gt;\\n ...</td>\n",
       "      <td>{'Buatlah website blog \"Kesehatan dan Kecantik...</td>\n",
       "      <td>0.303761</td>\n",
       "      <td>0.0</td>\n",
       "      <td></td>\n",
       "    </tr>\n",
       "    <tr>\n",
       "      <th>499</th>\n",
       "      <td>Buatlah website informasi \"Wisata Kuliner\" den...</td>\n",
       "      <td>&lt;!DOCTYPE html&gt;\\n&lt;html lang=\"id\"&gt;\\n\\n&lt;head&gt;\\n ...</td>\n",
       "      <td>{'Buatlah website travel agency dengan tema \"E...</td>\n",
       "      <td>0.301174</td>\n",
       "      <td>0.0</td>\n",
       "      <td></td>\n",
       "    </tr>\n",
       "    <tr>\n",
       "      <th>500</th>\n",
       "      <td>Buatlah website komunitas \"Hobi Saya\" dengan d...</td>\n",
       "      <td>&lt;!DOCTYPE html&gt;\\n&lt;html lang=\"id\"&gt;\\n\\n&lt;head&gt;\\n ...</td>\n",
       "      <td>{'Buatlah website informasi \"Wisata Kuliner\" d...</td>\n",
       "      <td>0.281707</td>\n",
       "      <td>0.0</td>\n",
       "      <td></td>\n",
       "    </tr>\n",
       "  </tbody>\n",
       "</table>\n",
       "</div>"
      ],
      "text/plain": [
       "                                           instruction  \\\n",
       "498  Buatlah website blog tentang wisata di Indones...   \n",
       "499  Buatlah website informasi \"Wisata Kuliner\" den...   \n",
       "500  Buatlah website komunitas \"Hobi Saya\" dengan d...   \n",
       "\n",
       "                                                output  \\\n",
       "498  <!DOCTYPE html>\\n<html lang=\"id\">\\n\\n<head>\\n ...   \n",
       "499  <!DOCTYPE html>\\n<html lang=\"id\">\\n\\n<head>\\n ...   \n",
       "500  <!DOCTYPE html>\\n<html lang=\"id\">\\n\\n<head>\\n ...   \n",
       "\n",
       "                             most_similar_instructions  avg_similarity_score  \\\n",
       "498  {'Buatlah website blog \"Kesehatan dan Kecantik...              0.303761   \n",
       "499  {'Buatlah website travel agency dengan tema \"E...              0.301174   \n",
       "500  {'Buatlah website informasi \"Wisata Kuliner\" d...              0.281707   \n",
       "\n",
       "     curation_status curation_message  \n",
       "498              0.0                   \n",
       "499              0.0                   \n",
       "500              0.0                   "
      ]
     },
     "execution_count": 61,
     "metadata": {},
     "output_type": "execute_result"
    }
   ],
   "source": [
    "import pandas as pd\n",
    "from IPython.display import HTML, clear_output\n",
    "\n",
    "\n",
    "df = pd.read_json('regen.json')\n",
    "if all(item in df.columns for item in ['curation_status', 'curation_message']):\n",
    "  df.fillna(value={'curation_status': 0, 'curation_message': ''}, inplace=True)\n",
    "# else:\n",
    "# df['curation_status'] = 0\n",
    "# df['curation_message'] = ''\n",
    "df.tail(3)"
   ]
  },
  {
   "cell_type": "code",
   "execution_count": 62,
   "metadata": {},
   "outputs": [],
   "source": [
    "curation_df = pd.DataFrame(columns=['curation_status', 'curation_message'])"
   ]
  },
  {
   "cell_type": "code",
   "execution_count": 63,
   "metadata": {},
   "outputs": [],
   "source": [
    "for idx, row in df[df['curation_status'] == 0].iterrows():\n",
    "  last_idx = idx\n",
    "  instruction, output, most_similar_instructions, avg_similarity_score, _, __ = row\n",
    "  stop = False\n",
    "  while not stop:\n",
    "    clear_output(wait=True)\n",
    "    display(HTML(output))\n",
    "    \n",
    "    print(f'''Instruction: {instruction}\n",
    "    Output: {output}''')\n",
    "    \n",
    "    curator_input = input(f'{idx}. Is the data good? (yes/no/mark/stop):')\n",
    "    curator_input = curator_input.strip()\n",
    "    if curator_input == 'yes':\n",
    "      curation_df.loc[idx] = {\n",
    "        'curation_status': 1,\n",
    "        'curation_message': '',\n",
    "      }\n",
    "      break\n",
    "    elif curator_input == 'no':\n",
    "      curation_df.loc[idx] = {\n",
    "        'curation_status': -1,\n",
    "        'curation_message': '',\n",
    "      }\n",
    "      break\n",
    "    # Mark the data if you think the data can be fixed/improved manually\n",
    "    elif curator_input == 'mark':\n",
    "      suggestion = input('Suggestion: ')\n",
    "      curation_df.loc[idx] = {\n",
    "        'curation_status': 0,\n",
    "        'curation_message': suggestion,\n",
    "      }\n",
    "      break\n",
    "    elif curator_input == 'stop':\n",
    "      stop = True\n",
    "    else:\n",
    "      print('Invalid input:', '\"' + curator_input + '\"')\n",
    "  if stop:\n",
    "    break\n",
    "clear_output()"
   ]
  },
  {
   "cell_type": "code",
   "execution_count": 64,
   "metadata": {},
   "outputs": [
    {
     "data": {
      "text/html": [
       "<div>\n",
       "<style scoped>\n",
       "    .dataframe tbody tr th:only-of-type {\n",
       "        vertical-align: middle;\n",
       "    }\n",
       "\n",
       "    .dataframe tbody tr th {\n",
       "        vertical-align: top;\n",
       "    }\n",
       "\n",
       "    .dataframe thead th {\n",
       "        text-align: right;\n",
       "    }\n",
       "</style>\n",
       "<table border=\"1\" class=\"dataframe\">\n",
       "  <thead>\n",
       "    <tr style=\"text-align: right;\">\n",
       "      <th></th>\n",
       "      <th>curation_status</th>\n",
       "      <th>curation_message</th>\n",
       "    </tr>\n",
       "  </thead>\n",
       "  <tbody>\n",
       "    <tr>\n",
       "      <th>498</th>\n",
       "      <td>1</td>\n",
       "      <td></td>\n",
       "    </tr>\n",
       "    <tr>\n",
       "      <th>499</th>\n",
       "      <td>1</td>\n",
       "      <td></td>\n",
       "    </tr>\n",
       "    <tr>\n",
       "      <th>500</th>\n",
       "      <td>1</td>\n",
       "      <td></td>\n",
       "    </tr>\n",
       "  </tbody>\n",
       "</table>\n",
       "</div>"
      ],
      "text/plain": [
       "    curation_status curation_message\n",
       "498               1                 \n",
       "499               1                 \n",
       "500               1                 "
      ]
     },
     "execution_count": 64,
     "metadata": {},
     "output_type": "execute_result"
    }
   ],
   "source": [
    "curation_df"
   ]
  },
  {
   "cell_type": "code",
   "execution_count": 65,
   "metadata": {},
   "outputs": [
    {
     "data": {
      "text/html": [
       "<div>\n",
       "<style scoped>\n",
       "    .dataframe tbody tr th:only-of-type {\n",
       "        vertical-align: middle;\n",
       "    }\n",
       "\n",
       "    .dataframe tbody tr th {\n",
       "        vertical-align: top;\n",
       "    }\n",
       "\n",
       "    .dataframe thead th {\n",
       "        text-align: right;\n",
       "    }\n",
       "</style>\n",
       "<table border=\"1\" class=\"dataframe\">\n",
       "  <thead>\n",
       "    <tr style=\"text-align: right;\">\n",
       "      <th></th>\n",
       "      <th>instruction</th>\n",
       "      <th>output</th>\n",
       "      <th>most_similar_instructions</th>\n",
       "      <th>avg_similarity_score</th>\n",
       "      <th>curation_status</th>\n",
       "      <th>curation_message</th>\n",
       "    </tr>\n",
       "  </thead>\n",
       "  <tbody>\n",
       "    <tr>\n",
       "      <th>498</th>\n",
       "      <td>Buatlah website blog tentang wisata di Indones...</td>\n",
       "      <td>&lt;!DOCTYPE html&gt;\\n&lt;html lang=\"id\"&gt;\\n\\n&lt;head&gt;\\n ...</td>\n",
       "      <td>{'Buatlah website blog \"Kesehatan dan Kecantik...</td>\n",
       "      <td>0.303761</td>\n",
       "      <td>1</td>\n",
       "      <td></td>\n",
       "    </tr>\n",
       "    <tr>\n",
       "      <th>499</th>\n",
       "      <td>Buatlah website informasi \"Wisata Kuliner\" den...</td>\n",
       "      <td>&lt;!DOCTYPE html&gt;\\n&lt;html lang=\"id\"&gt;\\n\\n&lt;head&gt;\\n ...</td>\n",
       "      <td>{'Buatlah website travel agency dengan tema \"E...</td>\n",
       "      <td>0.301174</td>\n",
       "      <td>1</td>\n",
       "      <td></td>\n",
       "    </tr>\n",
       "    <tr>\n",
       "      <th>500</th>\n",
       "      <td>Buatlah website komunitas \"Hobi Saya\" dengan d...</td>\n",
       "      <td>&lt;!DOCTYPE html&gt;\\n&lt;html lang=\"id\"&gt;\\n\\n&lt;head&gt;\\n ...</td>\n",
       "      <td>{'Buatlah website informasi \"Wisata Kuliner\" d...</td>\n",
       "      <td>0.281707</td>\n",
       "      <td>1</td>\n",
       "      <td></td>\n",
       "    </tr>\n",
       "  </tbody>\n",
       "</table>\n",
       "</div>"
      ],
      "text/plain": [
       "                                           instruction  \\\n",
       "498  Buatlah website blog tentang wisata di Indones...   \n",
       "499  Buatlah website informasi \"Wisata Kuliner\" den...   \n",
       "500  Buatlah website komunitas \"Hobi Saya\" dengan d...   \n",
       "\n",
       "                                                output  \\\n",
       "498  <!DOCTYPE html>\\n<html lang=\"id\">\\n\\n<head>\\n ...   \n",
       "499  <!DOCTYPE html>\\n<html lang=\"id\">\\n\\n<head>\\n ...   \n",
       "500  <!DOCTYPE html>\\n<html lang=\"id\">\\n\\n<head>\\n ...   \n",
       "\n",
       "                             most_similar_instructions  avg_similarity_score  \\\n",
       "498  {'Buatlah website blog \"Kesehatan dan Kecantik...              0.303761   \n",
       "499  {'Buatlah website travel agency dengan tema \"E...              0.301174   \n",
       "500  {'Buatlah website informasi \"Wisata Kuliner\" d...              0.281707   \n",
       "\n",
       "    curation_status curation_message  \n",
       "498               1                   \n",
       "499               1                   \n",
       "500               1                   "
      ]
     },
     "execution_count": 65,
     "metadata": {},
     "output_type": "execute_result"
    }
   ],
   "source": [
    "curated_df = curation_df.combine_first(df)[df.columns]\n",
    "curated_df.iloc[curation_df.index]"
   ]
  },
  {
   "cell_type": "code",
   "execution_count": 66,
   "metadata": {},
   "outputs": [
    {
     "name": "stdout",
     "output_type": "stream",
     "text": [
      "regen-curated.json exported sucessfully!\n"
     ]
    }
   ],
   "source": [
    "curated_df[curated_df['curation_status'] != -1].to_json('regen-curated.json', orient=\"records\")\n",
    "print('regen-curated.json exported sucessfully!')"
   ]
  },
  {
   "cell_type": "code",
   "execution_count": 3,
   "metadata": {},
   "outputs": [
    {
     "name": "stdout",
     "output_type": "stream",
     "text": [
      "webgen-dataset-2.json exported sucessfully!\n"
     ]
    }
   ],
   "source": [
    "ok_df = pd.read_json('regen.json')\n",
    "ok_df[['instruction', 'output']].to_json('webgen-dataset-2.json', orient='records')\n",
    "print('webgen-dataset-2.json exported sucessfully!')"
   ]
  }
 ],
 "metadata": {
  "kernelspec": {
   "display_name": "py3.9",
   "language": "python",
   "name": "python3"
  },
  "language_info": {
   "codemirror_mode": {
    "name": "ipython",
    "version": 3
   },
   "file_extension": ".py",
   "mimetype": "text/x-python",
   "name": "python",
   "nbconvert_exporter": "python",
   "pygments_lexer": "ipython3",
   "version": "3.9.2"
  },
  "orig_nbformat": 4
 },
 "nbformat": 4,
 "nbformat_minor": 2
}
